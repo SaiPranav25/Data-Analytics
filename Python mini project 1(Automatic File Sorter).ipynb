{
 "cells": [
  {
   "cell_type": "code",
   "execution_count": 11,
   "id": "1066b643-fd89-4a0f-a0ad-0f096f234d9e",
   "metadata": {},
   "outputs": [],
   "source": [
    "import os,shutil"
   ]
  },
  {
   "cell_type": "code",
   "execution_count": 12,
   "id": "43f54e5e-92d4-4ad4-86e5-97d2066b2d45",
   "metadata": {},
   "outputs": [],
   "source": [
    "path=r\"C:/Users/saipr/OneDrive/Documents/automatic sort folder/\""
   ]
  },
  {
   "cell_type": "code",
   "execution_count": 13,
   "id": "17e42a89-d820-4826-b9e4-ff23d99ac88b",
   "metadata": {},
   "outputs": [],
   "source": [
    "filename=os.listdir(path)"
   ]
  },
  {
   "cell_type": "code",
   "execution_count": 14,
   "id": "318721db-9052-40fb-a0a2-9f4b2bb355fe",
   "metadata": {},
   "outputs": [
    {
     "name": "stdout",
     "output_type": "stream",
     "text": [
      "['LiteratureSurvey.pdf', 'ODI data.csv', 'Why_Linear_Regression_and_KNN_Are_Poor_Choices[1].pptx', 'zero.jpg', 'శివాష్టకం.docx']\n"
     ]
    }
   ],
   "source": [
    "print(filename)"
   ]
  },
  {
   "cell_type": "code",
   "execution_count": 15,
   "id": "35e483d5-0e83-493e-a9d1-0f762886cde1",
   "metadata": {},
   "outputs": [],
   "source": [
    "folder_names=['csv files','pdf files','ppt files','doc files','jpg files']"
   ]
  },
  {
   "cell_type": "code",
   "execution_count": 16,
   "id": "ac5c8533-e030-4488-aec2-92999841d94c",
   "metadata": {},
   "outputs": [],
   "source": [
    "for i in folder_names:\n",
    "    if not os.path.exists(path+i):\n",
    "        os.makedirs(path+i)\n",
    "        "
   ]
  },
  {
   "cell_type": "code",
   "execution_count": 17,
   "id": "2904661d-6675-423a-b30e-f5319717728d",
   "metadata": {},
   "outputs": [],
   "source": [
    "for f in filename:\n",
    "    if \".csv\" in f and not os.path.exists(path+\"csv files/\"+f):\n",
    "        shutil.move(path+f,path+\"csv files/\"+f)\n",
    "    elif \".pdf\" in f and not os.path.exists(path+\"pdf files/\"+f):\n",
    "        shutil.move(path+f,path+\"pdf files/\"+f)\n",
    "    elif \".pptx\" in f and not os.path.exists(path+\"ppt files/\"+f):\n",
    "        shutil.move(path+f,path+\"ppt files/\"+f)\n",
    "    elif \".docx\" in f and not os.path.exists(path+\"doc files/\"+f):\n",
    "        shutil.move(path+f,path+\"doc files/\"+f)\n",
    "    elif \".jpg\" in f and not os.path.exists(path+\"jpg files/\"+f):\n",
    "        shutil.move(path+f,path+\"jpg files/\"+f)"
   ]
  },
  {
   "cell_type": "code",
   "execution_count": null,
   "id": "ac0a0bb5-b707-4c08-9777-933af9608205",
   "metadata": {},
   "outputs": [],
   "source": []
  }
 ],
 "metadata": {
  "kernelspec": {
   "display_name": "Python [conda env:base] *",
   "language": "python",
   "name": "conda-base-py"
  },
  "language_info": {
   "codemirror_mode": {
    "name": "ipython",
    "version": 3
   },
   "file_extension": ".py",
   "mimetype": "text/x-python",
   "name": "python",
   "nbconvert_exporter": "python",
   "pygments_lexer": "ipython3",
   "version": "3.13.5"
  }
 },
 "nbformat": 4,
 "nbformat_minor": 5
}
